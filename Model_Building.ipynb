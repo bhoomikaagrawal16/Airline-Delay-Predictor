{
 "cells": [
  {
   "cell_type": "markdown",
   "metadata": {
    "id": "IDBLvlq8Td2J"
   },
   "source": [
    "**Bhoomika Agrawal**\n",
    "\n",
    "**600092220040**\n",
    "\n",
    "**SY D1-1**"
   ]
  },
  {
   "cell_type": "markdown",
   "metadata": {
    "id": "87lbGCdWN38q"
   },
   "source": [
    "# **Data Transforming**"
   ]
  },
  {
   "cell_type": "markdown",
   "metadata": {
    "id": "iU8oEPQWKiaT"
   },
   "source": [
    "## **Importing The Dataset**\n",
    "- During the EDA phase we noticed that 2020 had the most number of delays and cancellations all due to the COVID-19 pandemic so using it for training a flight delay prediction model may not result in Accurate predictions."
   ]
  },
  {
   "cell_type": "code",
   "execution_count": 38,
   "metadata": {
    "id": "1zKd5dlC4elD"
   },
   "outputs": [],
   "source": [
    "import pandas as pd\n",
    "import numpy as np\n",
    "import pickle"
   ]
  },
  {
   "cell_type": "code",
   "execution_count": 39,
   "metadata": {
    "id": "L7uem3e4Kmf_"
   },
   "outputs": [],
   "source": [
    "df = pd.read_csv('./final_flight_data.csv')"
   ]
  },
  {
   "cell_type": "code",
   "execution_count": 40,
   "metadata": {
    "colab": {
     "base_uri": "https://localhost:8080/",
     "height": 843
    },
    "id": "yzGVq5kDL2UF",
    "outputId": "bd754841-cf1a-424f-a1c5-64ce110e2f8f"
   },
   "outputs": [
    {
     "data": {
      "text/html": [
       "<div>\n",
       "<style scoped>\n",
       "    .dataframe tbody tr th:only-of-type {\n",
       "        vertical-align: middle;\n",
       "    }\n",
       "\n",
       "    .dataframe tbody tr th {\n",
       "        vertical-align: top;\n",
       "    }\n",
       "\n",
       "    .dataframe thead th {\n",
       "        text-align: right;\n",
       "    }\n",
       "</style>\n",
       "<table border=\"1\" class=\"dataframe\">\n",
       "  <thead>\n",
       "    <tr style=\"text-align: right;\">\n",
       "      <th></th>\n",
       "      <th>Unnamed: 0.1</th>\n",
       "      <th>Unnamed: 0</th>\n",
       "      <th>FlightDate</th>\n",
       "      <th>Airline</th>\n",
       "      <th>Flight_Number_Marketing_Airline</th>\n",
       "      <th>Origin</th>\n",
       "      <th>Dest</th>\n",
       "      <th>Cancelled</th>\n",
       "      <th>Diverted</th>\n",
       "      <th>CRSDepTime</th>\n",
       "      <th>...</th>\n",
       "      <th>DestStateName</th>\n",
       "      <th>TaxiOut</th>\n",
       "      <th>TaxiIn</th>\n",
       "      <th>CRSArrTime</th>\n",
       "      <th>ArrTime</th>\n",
       "      <th>ArrDelayMinutes</th>\n",
       "      <th>DelayGroup</th>\n",
       "      <th>Year</th>\n",
       "      <th>Month</th>\n",
       "      <th>DelayOk</th>\n",
       "    </tr>\n",
       "  </thead>\n",
       "  <tbody>\n",
       "    <tr>\n",
       "      <th>0</th>\n",
       "      <td>0</td>\n",
       "      <td>0</td>\n",
       "      <td>2022-04-04</td>\n",
       "      <td>Commutair Aka Champlain Enterprises, Inc.</td>\n",
       "      <td>4301</td>\n",
       "      <td>GJT</td>\n",
       "      <td>DEN</td>\n",
       "      <td>False</td>\n",
       "      <td>False</td>\n",
       "      <td>1133</td>\n",
       "      <td>...</td>\n",
       "      <td>Colorado</td>\n",
       "      <td>17.0</td>\n",
       "      <td>8.0</td>\n",
       "      <td>1245</td>\n",
       "      <td>1228.0</td>\n",
       "      <td>0.0</td>\n",
       "      <td>OnTime_Early</td>\n",
       "      <td>2022</td>\n",
       "      <td>4</td>\n",
       "      <td>Good</td>\n",
       "    </tr>\n",
       "    <tr>\n",
       "      <th>1</th>\n",
       "      <td>64</td>\n",
       "      <td>64</td>\n",
       "      <td>2022-04-04</td>\n",
       "      <td>GoJet Airlines, LLC d/b/a United Express</td>\n",
       "      <td>4183</td>\n",
       "      <td>DCA</td>\n",
       "      <td>EWR</td>\n",
       "      <td>False</td>\n",
       "      <td>False</td>\n",
       "      <td>1600</td>\n",
       "      <td>...</td>\n",
       "      <td>New Jersey</td>\n",
       "      <td>18.0</td>\n",
       "      <td>7.0</td>\n",
       "      <td>1744</td>\n",
       "      <td>1702.0</td>\n",
       "      <td>0.0</td>\n",
       "      <td>OnTime_Early</td>\n",
       "      <td>2022</td>\n",
       "      <td>4</td>\n",
       "      <td>Good</td>\n",
       "    </tr>\n",
       "    <tr>\n",
       "      <th>2</th>\n",
       "      <td>128</td>\n",
       "      <td>128</td>\n",
       "      <td>2022-04-04</td>\n",
       "      <td>Air Wisconsin Airlines Corp</td>\n",
       "      <td>3908</td>\n",
       "      <td>ORD</td>\n",
       "      <td>TVC</td>\n",
       "      <td>False</td>\n",
       "      <td>False</td>\n",
       "      <td>1820</td>\n",
       "      <td>...</td>\n",
       "      <td>Michigan</td>\n",
       "      <td>13.0</td>\n",
       "      <td>3.0</td>\n",
       "      <td>2034</td>\n",
       "      <td>2012.0</td>\n",
       "      <td>0.0</td>\n",
       "      <td>OnTime_Early</td>\n",
       "      <td>2022</td>\n",
       "      <td>4</td>\n",
       "      <td>Good</td>\n",
       "    </tr>\n",
       "    <tr>\n",
       "      <th>3</th>\n",
       "      <td>192</td>\n",
       "      <td>192</td>\n",
       "      <td>2022-04-04</td>\n",
       "      <td>Air Wisconsin Airlines Corp</td>\n",
       "      <td>3812</td>\n",
       "      <td>CID</td>\n",
       "      <td>ORD</td>\n",
       "      <td>False</td>\n",
       "      <td>False</td>\n",
       "      <td>1110</td>\n",
       "      <td>...</td>\n",
       "      <td>Illinois</td>\n",
       "      <td>9.0</td>\n",
       "      <td>10.0</td>\n",
       "      <td>1234</td>\n",
       "      <td>1204.0</td>\n",
       "      <td>0.0</td>\n",
       "      <td>OnTime_Early</td>\n",
       "      <td>2022</td>\n",
       "      <td>4</td>\n",
       "      <td>Good</td>\n",
       "    </tr>\n",
       "    <tr>\n",
       "      <th>4</th>\n",
       "      <td>256</td>\n",
       "      <td>256</td>\n",
       "      <td>2022-04-04</td>\n",
       "      <td>Air Wisconsin Airlines Corp</td>\n",
       "      <td>3744</td>\n",
       "      <td>ORD</td>\n",
       "      <td>SGF</td>\n",
       "      <td>False</td>\n",
       "      <td>False</td>\n",
       "      <td>851</td>\n",
       "      <td>...</td>\n",
       "      <td>Missouri</td>\n",
       "      <td>21.0</td>\n",
       "      <td>6.0</td>\n",
       "      <td>1039</td>\n",
       "      <td>1038.0</td>\n",
       "      <td>0.0</td>\n",
       "      <td>Small_Delay</td>\n",
       "      <td>2022</td>\n",
       "      <td>4</td>\n",
       "      <td>Good</td>\n",
       "    </tr>\n",
       "    <tr>\n",
       "      <th>...</th>\n",
       "      <td>...</td>\n",
       "      <td>...</td>\n",
       "      <td>...</td>\n",
       "      <td>...</td>\n",
       "      <td>...</td>\n",
       "      <td>...</td>\n",
       "      <td>...</td>\n",
       "      <td>...</td>\n",
       "      <td>...</td>\n",
       "      <td>...</td>\n",
       "      <td>...</td>\n",
       "      <td>...</td>\n",
       "      <td>...</td>\n",
       "      <td>...</td>\n",
       "      <td>...</td>\n",
       "      <td>...</td>\n",
       "      <td>...</td>\n",
       "      <td>...</td>\n",
       "      <td>...</td>\n",
       "      <td>...</td>\n",
       "      <td>...</td>\n",
       "    </tr>\n",
       "    <tr>\n",
       "      <th>456148</th>\n",
       "      <td>29193472</td>\n",
       "      <td>29193472</td>\n",
       "      <td>2019-01-10</td>\n",
       "      <td>ExpressJet Airlines Inc.</td>\n",
       "      <td>4241</td>\n",
       "      <td>DCA</td>\n",
       "      <td>EWR</td>\n",
       "      <td>False</td>\n",
       "      <td>False</td>\n",
       "      <td>750</td>\n",
       "      <td>...</td>\n",
       "      <td>New Jersey</td>\n",
       "      <td>15.0</td>\n",
       "      <td>8.0</td>\n",
       "      <td>909</td>\n",
       "      <td>852.0</td>\n",
       "      <td>0.0</td>\n",
       "      <td>OnTime_Early</td>\n",
       "      <td>2019</td>\n",
       "      <td>1</td>\n",
       "      <td>Good</td>\n",
       "    </tr>\n",
       "    <tr>\n",
       "      <th>456149</th>\n",
       "      <td>29193536</td>\n",
       "      <td>29193536</td>\n",
       "      <td>2019-01-11</td>\n",
       "      <td>ExpressJet Airlines Inc.</td>\n",
       "      <td>4242</td>\n",
       "      <td>IAH</td>\n",
       "      <td>STL</td>\n",
       "      <td>True</td>\n",
       "      <td>False</td>\n",
       "      <td>1829</td>\n",
       "      <td>...</td>\n",
       "      <td>Missouri</td>\n",
       "      <td>NaN</td>\n",
       "      <td>NaN</td>\n",
       "      <td>2035</td>\n",
       "      <td>NaN</td>\n",
       "      <td>NaN</td>\n",
       "      <td>Cancelled</td>\n",
       "      <td>2019</td>\n",
       "      <td>1</td>\n",
       "      <td>Bad</td>\n",
       "    </tr>\n",
       "    <tr>\n",
       "      <th>456150</th>\n",
       "      <td>29193600</td>\n",
       "      <td>29193600</td>\n",
       "      <td>2019-01-04</td>\n",
       "      <td>ExpressJet Airlines Inc.</td>\n",
       "      <td>4245</td>\n",
       "      <td>ORD</td>\n",
       "      <td>BNA</td>\n",
       "      <td>False</td>\n",
       "      <td>False</td>\n",
       "      <td>1530</td>\n",
       "      <td>...</td>\n",
       "      <td>Tennessee</td>\n",
       "      <td>16.0</td>\n",
       "      <td>18.0</td>\n",
       "      <td>1712</td>\n",
       "      <td>1701.0</td>\n",
       "      <td>0.0</td>\n",
       "      <td>OnTime_Early</td>\n",
       "      <td>2019</td>\n",
       "      <td>1</td>\n",
       "      <td>Good</td>\n",
       "    </tr>\n",
       "    <tr>\n",
       "      <th>456151</th>\n",
       "      <td>29193664</td>\n",
       "      <td>29193664</td>\n",
       "      <td>2019-01-18</td>\n",
       "      <td>ExpressJet Airlines Inc.</td>\n",
       "      <td>4247</td>\n",
       "      <td>ORD</td>\n",
       "      <td>DSM</td>\n",
       "      <td>False</td>\n",
       "      <td>False</td>\n",
       "      <td>1010</td>\n",
       "      <td>...</td>\n",
       "      <td>Iowa</td>\n",
       "      <td>18.0</td>\n",
       "      <td>4.0</td>\n",
       "      <td>1138</td>\n",
       "      <td>1218.0</td>\n",
       "      <td>40.0</td>\n",
       "      <td>Large_Delay</td>\n",
       "      <td>2019</td>\n",
       "      <td>1</td>\n",
       "      <td>Bad</td>\n",
       "    </tr>\n",
       "    <tr>\n",
       "      <th>456152</th>\n",
       "      <td>29193728</td>\n",
       "      <td>29193728</td>\n",
       "      <td>2019-01-18</td>\n",
       "      <td>ExpressJet Airlines Inc.</td>\n",
       "      <td>4250</td>\n",
       "      <td>IAH</td>\n",
       "      <td>MOB</td>\n",
       "      <td>False</td>\n",
       "      <td>False</td>\n",
       "      <td>1940</td>\n",
       "      <td>...</td>\n",
       "      <td>Alabama</td>\n",
       "      <td>17.0</td>\n",
       "      <td>4.0</td>\n",
       "      <td>2100</td>\n",
       "      <td>2058.0</td>\n",
       "      <td>0.0</td>\n",
       "      <td>OnTime_Early</td>\n",
       "      <td>2019</td>\n",
       "      <td>1</td>\n",
       "      <td>Good</td>\n",
       "    </tr>\n",
       "  </tbody>\n",
       "</table>\n",
       "<p>456153 rows × 27 columns</p>\n",
       "</div>"
      ],
      "text/plain": [
       "        Unnamed: 0.1  Unnamed: 0  FlightDate  \\\n",
       "0                  0           0  2022-04-04   \n",
       "1                 64          64  2022-04-04   \n",
       "2                128         128  2022-04-04   \n",
       "3                192         192  2022-04-04   \n",
       "4                256         256  2022-04-04   \n",
       "...              ...         ...         ...   \n",
       "456148      29193472    29193472  2019-01-10   \n",
       "456149      29193536    29193536  2019-01-11   \n",
       "456150      29193600    29193600  2019-01-04   \n",
       "456151      29193664    29193664  2019-01-18   \n",
       "456152      29193728    29193728  2019-01-18   \n",
       "\n",
       "                                          Airline  \\\n",
       "0       Commutair Aka Champlain Enterprises, Inc.   \n",
       "1        GoJet Airlines, LLC d/b/a United Express   \n",
       "2                     Air Wisconsin Airlines Corp   \n",
       "3                     Air Wisconsin Airlines Corp   \n",
       "4                     Air Wisconsin Airlines Corp   \n",
       "...                                           ...   \n",
       "456148                   ExpressJet Airlines Inc.   \n",
       "456149                   ExpressJet Airlines Inc.   \n",
       "456150                   ExpressJet Airlines Inc.   \n",
       "456151                   ExpressJet Airlines Inc.   \n",
       "456152                   ExpressJet Airlines Inc.   \n",
       "\n",
       "        Flight_Number_Marketing_Airline Origin Dest  Cancelled  Diverted  \\\n",
       "0                                  4301    GJT  DEN      False     False   \n",
       "1                                  4183    DCA  EWR      False     False   \n",
       "2                                  3908    ORD  TVC      False     False   \n",
       "3                                  3812    CID  ORD      False     False   \n",
       "4                                  3744    ORD  SGF      False     False   \n",
       "...                                 ...    ...  ...        ...       ...   \n",
       "456148                             4241    DCA  EWR      False     False   \n",
       "456149                             4242    IAH  STL       True     False   \n",
       "456150                             4245    ORD  BNA      False     False   \n",
       "456151                             4247    ORD  DSM      False     False   \n",
       "456152                             4250    IAH  MOB      False     False   \n",
       "\n",
       "        CRSDepTime  ...  DestStateName  TaxiOut  TaxiIn CRSArrTime ArrTime  \\\n",
       "0             1133  ...       Colorado     17.0     8.0       1245  1228.0   \n",
       "1             1600  ...     New Jersey     18.0     7.0       1744  1702.0   \n",
       "2             1820  ...       Michigan     13.0     3.0       2034  2012.0   \n",
       "3             1110  ...       Illinois      9.0    10.0       1234  1204.0   \n",
       "4              851  ...       Missouri     21.0     6.0       1039  1038.0   \n",
       "...            ...  ...            ...      ...     ...        ...     ...   \n",
       "456148         750  ...     New Jersey     15.0     8.0        909   852.0   \n",
       "456149        1829  ...       Missouri      NaN     NaN       2035     NaN   \n",
       "456150        1530  ...      Tennessee     16.0    18.0       1712  1701.0   \n",
       "456151        1010  ...           Iowa     18.0     4.0       1138  1218.0   \n",
       "456152        1940  ...        Alabama     17.0     4.0       2100  2058.0   \n",
       "\n",
       "        ArrDelayMinutes    DelayGroup  Year  Month  DelayOk  \n",
       "0                   0.0  OnTime_Early  2022      4     Good  \n",
       "1                   0.0  OnTime_Early  2022      4     Good  \n",
       "2                   0.0  OnTime_Early  2022      4     Good  \n",
       "3                   0.0  OnTime_Early  2022      4     Good  \n",
       "4                   0.0   Small_Delay  2022      4     Good  \n",
       "...                 ...           ...   ...    ...      ...  \n",
       "456148              0.0  OnTime_Early  2019      1     Good  \n",
       "456149              NaN     Cancelled  2019      1      Bad  \n",
       "456150              0.0  OnTime_Early  2019      1     Good  \n",
       "456151             40.0   Large_Delay  2019      1      Bad  \n",
       "456152              0.0  OnTime_Early  2019      1     Good  \n",
       "\n",
       "[456153 rows x 27 columns]"
      ]
     },
     "execution_count": 40,
     "metadata": {},
     "output_type": "execute_result"
    }
   ],
   "source": [
    "df"
   ]
  },
  {
   "cell_type": "markdown",
   "metadata": {
    "id": "cN5jtjAvNiAy"
   },
   "source": [
    "## **Label Encoding**"
   ]
  },
  {
   "cell_type": "code",
   "execution_count": 41,
   "metadata": {
    "id": "Aq5dPPvzO-fE"
   },
   "outputs": [],
   "source": [
    "from sklearn.preprocessing import LabelEncoder\n",
    "le1=LabelEncoder()\n",
    "df['Airline']=le1.fit_transform(df['Airline'])"
   ]
  },
  {
   "cell_type": "code",
   "execution_count": 42,
   "metadata": {
    "id": "SJagHGpGO-fE"
   },
   "outputs": [],
   "source": [
    "from sklearn.preprocessing import LabelEncoder\n",
    "le2=LabelEncoder()\n",
    "df['Origin']=le2.fit_transform(df['Origin'])"
   ]
  },
  {
   "cell_type": "code",
   "execution_count": 43,
   "metadata": {
    "id": "UaCaQpszO-fE"
   },
   "outputs": [],
   "source": [
    "from sklearn.preprocessing import LabelEncoder\n",
    "le3=LabelEncoder()\n",
    "df['Dest']=le3.fit_transform(df['Dest'])"
   ]
  },
  {
   "cell_type": "code",
   "execution_count": 44,
   "metadata": {
    "id": "ELZuXYMaO-fE"
   },
   "outputs": [],
   "source": [
    "from sklearn.preprocessing import LabelEncoder\n",
    "le4=LabelEncoder()\n",
    "df['Cancelled']=le4.fit_transform(df['Cancelled'])"
   ]
  },
  {
   "cell_type": "code",
   "execution_count": 45,
   "metadata": {
    "id": "YPPezYNdO-fE"
   },
   "outputs": [],
   "source": [
    "from sklearn.preprocessing import LabelEncoder\n",
    "le5=LabelEncoder()\n",
    "df['Diverted']=le5.fit_transform(df['Diverted'])"
   ]
  },
  {
   "cell_type": "code",
   "execution_count": 46,
   "metadata": {
    "id": "0PryzdW9O-fE"
   },
   "outputs": [],
   "source": [
    "from sklearn.preprocessing import LabelEncoder\n",
    "le6=LabelEncoder()\n",
    "df['OriginCityName']=le6.fit_transform(df['OriginCityName'])"
   ]
  },
  {
   "cell_type": "code",
   "execution_count": 47,
   "metadata": {
    "id": "aqu0T0dzO-fF"
   },
   "outputs": [],
   "source": [
    "from sklearn.preprocessing import LabelEncoder\n",
    "le7=LabelEncoder()\n",
    "df['DestCityName']=le7.fit_transform(df['DestCityName'])"
   ]
  },
  {
   "cell_type": "code",
   "execution_count": 48,
   "metadata": {
    "id": "pDmovmZEO-fF"
   },
   "outputs": [],
   "source": [
    "from sklearn.preprocessing import LabelEncoder\n",
    "le8=LabelEncoder()\n",
    "df['OriginStateName']=le8.fit_transform(df['OriginStateName'])"
   ]
  },
  {
   "cell_type": "code",
   "execution_count": 49,
   "metadata": {
    "id": "ucdbYxxJO-fF"
   },
   "outputs": [],
   "source": [
    "from sklearn.preprocessing import LabelEncoder\n",
    "le9=LabelEncoder()\n",
    "df['DestStateName']=le9.fit_transform(df['DestStateName'])"
   ]
  },
  {
   "cell_type": "code",
   "execution_count": 50,
   "metadata": {
    "id": "8Ch6GyMOO-fF"
   },
   "outputs": [],
   "source": [
    "from sklearn.preprocessing import LabelEncoder\n",
    "le10=LabelEncoder()\n",
    "df['DelayGroup']=le10.fit_transform(df['DelayGroup'])"
   ]
  },
  {
   "cell_type": "code",
   "execution_count": 51,
   "metadata": {
    "id": "y5aE5njIO-fF"
   },
   "outputs": [],
   "source": [
    "from sklearn.preprocessing import LabelEncoder\n",
    "le11=LabelEncoder()\n",
    "df['DelayOk']=le11.fit_transform(df['DelayOk'])"
   ]
  },
  {
   "cell_type": "code",
   "execution_count": 52,
   "metadata": {
    "colab": {
     "base_uri": "https://localhost:8080/"
    },
    "id": "bl-Pny-84TJg",
    "outputId": "038e9965-6ccb-4091-92ba-a216b0a867d3"
   },
   "outputs": [
    {
     "data": {
      "text/plain": [
       "{'Alabama': 0,\n",
       " 'Alaska': 1,\n",
       " 'Arizona': 2,\n",
       " 'Arkansas': 3,\n",
       " 'California': 4,\n",
       " 'Colorado': 5,\n",
       " 'Connecticut': 6,\n",
       " 'Delaware': 7,\n",
       " 'Florida': 8,\n",
       " 'Georgia': 9,\n",
       " 'Hawaii': 10,\n",
       " 'Idaho': 11,\n",
       " 'Illinois': 12,\n",
       " 'Indiana': 13,\n",
       " 'Iowa': 14,\n",
       " 'Kansas': 15,\n",
       " 'Kentucky': 16,\n",
       " 'Louisiana': 17,\n",
       " 'Maine': 18,\n",
       " 'Maryland': 19,\n",
       " 'Massachusetts': 20,\n",
       " 'Michigan': 21,\n",
       " 'Minnesota': 22,\n",
       " 'Mississippi': 23,\n",
       " 'Missouri': 24,\n",
       " 'Montana': 25,\n",
       " 'Nebraska': 26,\n",
       " 'Nevada': 27,\n",
       " 'New Hampshire': 28,\n",
       " 'New Jersey': 29,\n",
       " 'New Mexico': 30,\n",
       " 'New York': 31,\n",
       " 'North Carolina': 32,\n",
       " 'North Dakota': 33,\n",
       " 'Ohio': 34,\n",
       " 'Oklahoma': 35,\n",
       " 'Oregon': 36,\n",
       " 'Pennsylvania': 37,\n",
       " 'Puerto Rico': 38,\n",
       " 'Rhode Island': 39,\n",
       " 'South Carolina': 40,\n",
       " 'South Dakota': 41,\n",
       " 'Tennessee': 42,\n",
       " 'Texas': 43,\n",
       " 'U.S. Pacific Trust Territories and Possessions': 44,\n",
       " 'U.S. Virgin Islands': 45,\n",
       " 'Utah': 46,\n",
       " 'Vermont': 47,\n",
       " 'Virginia': 48,\n",
       " 'Washington': 49,\n",
       " 'West Virginia': 50,\n",
       " 'Wisconsin': 51,\n",
       " 'Wyoming': 52}"
      ]
     },
     "execution_count": 52,
     "metadata": {},
     "output_type": "execute_result"
    }
   ],
   "source": [
    "label_mapping = dict(zip(le9.classes_, le9.transform(le9.classes_)))\n",
    "label_mapping"
   ]
  },
  {
   "cell_type": "code",
   "execution_count": 53,
   "metadata": {
    "colab": {
     "base_uri": "https://localhost:8080/"
    },
    "id": "z9OejAppxPF5",
    "outputId": "5584ac09-3eba-45ed-fe28-844b990078e9"
   },
   "outputs": [
    {
     "data": {
      "text/plain": [
       "Unnamed: 0.1                           0\n",
       "Unnamed: 0                             0\n",
       "FlightDate                             0\n",
       "Airline                                0\n",
       "Flight_Number_Marketing_Airline        0\n",
       "Origin                                 0\n",
       "Dest                                   0\n",
       "Cancelled                              0\n",
       "Diverted                               0\n",
       "CRSDepTime                             0\n",
       "DepTime                            11963\n",
       "DepDelayMinutes                    11989\n",
       "OriginAirportID                        0\n",
       "OriginCityName                         0\n",
       "OriginStateName                        0\n",
       "DestAirportID                          0\n",
       "DestCityName                           0\n",
       "DestStateName                          0\n",
       "TaxiOut                            12279\n",
       "TaxiIn                             12479\n",
       "CRSArrTime                             0\n",
       "ArrTime                            12367\n",
       "ArrDelayMinutes                    13282\n",
       "DelayGroup                             0\n",
       "Year                                   0\n",
       "Month                                  0\n",
       "DelayOk                                0\n",
       "dtype: int64"
      ]
     },
     "execution_count": 53,
     "metadata": {},
     "output_type": "execute_result"
    }
   ],
   "source": [
    "df.isnull().sum()"
   ]
  },
  {
   "cell_type": "code",
   "execution_count": 54,
   "metadata": {
    "id": "YOoJe828O-fF"
   },
   "outputs": [],
   "source": [
    "df.dropna(inplace=True)"
   ]
  },
  {
   "cell_type": "code",
   "execution_count": 55,
   "metadata": {
    "colab": {
     "base_uri": "https://localhost:8080/",
     "height": 273
    },
    "id": "tZ2z85e8O-fG",
    "outputId": "39ad7e26-0f97-4b92-a1e4-b07c4b62fb5d"
   },
   "outputs": [
    {
     "data": {
      "text/html": [
       "<div>\n",
       "<style scoped>\n",
       "    .dataframe tbody tr th:only-of-type {\n",
       "        vertical-align: middle;\n",
       "    }\n",
       "\n",
       "    .dataframe tbody tr th {\n",
       "        vertical-align: top;\n",
       "    }\n",
       "\n",
       "    .dataframe thead th {\n",
       "        text-align: right;\n",
       "    }\n",
       "</style>\n",
       "<table border=\"1\" class=\"dataframe\">\n",
       "  <thead>\n",
       "    <tr style=\"text-align: right;\">\n",
       "      <th></th>\n",
       "      <th>Unnamed: 0.1</th>\n",
       "      <th>Unnamed: 0</th>\n",
       "      <th>FlightDate</th>\n",
       "      <th>Airline</th>\n",
       "      <th>Flight_Number_Marketing_Airline</th>\n",
       "      <th>Origin</th>\n",
       "      <th>Dest</th>\n",
       "      <th>Cancelled</th>\n",
       "      <th>Diverted</th>\n",
       "      <th>CRSDepTime</th>\n",
       "      <th>...</th>\n",
       "      <th>DestStateName</th>\n",
       "      <th>TaxiOut</th>\n",
       "      <th>TaxiIn</th>\n",
       "      <th>CRSArrTime</th>\n",
       "      <th>ArrTime</th>\n",
       "      <th>ArrDelayMinutes</th>\n",
       "      <th>DelayGroup</th>\n",
       "      <th>Year</th>\n",
       "      <th>Month</th>\n",
       "      <th>DelayOk</th>\n",
       "    </tr>\n",
       "  </thead>\n",
       "  <tbody>\n",
       "    <tr>\n",
       "      <th>0</th>\n",
       "      <td>0</td>\n",
       "      <td>0</td>\n",
       "      <td>2022-04-04</td>\n",
       "      <td>7</td>\n",
       "      <td>4301</td>\n",
       "      <td>144</td>\n",
       "      <td>98</td>\n",
       "      <td>0</td>\n",
       "      <td>0</td>\n",
       "      <td>1133</td>\n",
       "      <td>...</td>\n",
       "      <td>5</td>\n",
       "      <td>17.0</td>\n",
       "      <td>8.0</td>\n",
       "      <td>1245</td>\n",
       "      <td>1228.0</td>\n",
       "      <td>0.0</td>\n",
       "      <td>3</td>\n",
       "      <td>2022</td>\n",
       "      <td>4</td>\n",
       "      <td>1</td>\n",
       "    </tr>\n",
       "    <tr>\n",
       "      <th>1</th>\n",
       "      <td>64</td>\n",
       "      <td>64</td>\n",
       "      <td>2022-04-04</td>\n",
       "      <td>15</td>\n",
       "      <td>4183</td>\n",
       "      <td>96</td>\n",
       "      <td>123</td>\n",
       "      <td>0</td>\n",
       "      <td>0</td>\n",
       "      <td>1600</td>\n",
       "      <td>...</td>\n",
       "      <td>29</td>\n",
       "      <td>18.0</td>\n",
       "      <td>7.0</td>\n",
       "      <td>1744</td>\n",
       "      <td>1702.0</td>\n",
       "      <td>0.0</td>\n",
       "      <td>3</td>\n",
       "      <td>2022</td>\n",
       "      <td>4</td>\n",
       "      <td>1</td>\n",
       "    </tr>\n",
       "    <tr>\n",
       "      <th>2</th>\n",
       "      <td>128</td>\n",
       "      <td>128</td>\n",
       "      <td>2022-04-04</td>\n",
       "      <td>0</td>\n",
       "      <td>3908</td>\n",
       "      <td>265</td>\n",
       "      <td>368</td>\n",
       "      <td>0</td>\n",
       "      <td>0</td>\n",
       "      <td>1820</td>\n",
       "      <td>...</td>\n",
       "      <td>21</td>\n",
       "      <td>13.0</td>\n",
       "      <td>3.0</td>\n",
       "      <td>2034</td>\n",
       "      <td>2012.0</td>\n",
       "      <td>0.0</td>\n",
       "      <td>3</td>\n",
       "      <td>2022</td>\n",
       "      <td>4</td>\n",
       "      <td>1</td>\n",
       "    </tr>\n",
       "    <tr>\n",
       "      <th>3</th>\n",
       "      <td>192</td>\n",
       "      <td>192</td>\n",
       "      <td>2022-04-04</td>\n",
       "      <td>0</td>\n",
       "      <td>3812</td>\n",
       "      <td>72</td>\n",
       "      <td>264</td>\n",
       "      <td>0</td>\n",
       "      <td>0</td>\n",
       "      <td>1110</td>\n",
       "      <td>...</td>\n",
       "      <td>12</td>\n",
       "      <td>9.0</td>\n",
       "      <td>10.0</td>\n",
       "      <td>1234</td>\n",
       "      <td>1204.0</td>\n",
       "      <td>0.0</td>\n",
       "      <td>3</td>\n",
       "      <td>2022</td>\n",
       "      <td>4</td>\n",
       "      <td>1</td>\n",
       "    </tr>\n",
       "    <tr>\n",
       "      <th>4</th>\n",
       "      <td>256</td>\n",
       "      <td>256</td>\n",
       "      <td>2022-04-04</td>\n",
       "      <td>0</td>\n",
       "      <td>3744</td>\n",
       "      <td>265</td>\n",
       "      <td>332</td>\n",
       "      <td>0</td>\n",
       "      <td>0</td>\n",
       "      <td>851</td>\n",
       "      <td>...</td>\n",
       "      <td>24</td>\n",
       "      <td>21.0</td>\n",
       "      <td>6.0</td>\n",
       "      <td>1039</td>\n",
       "      <td>1038.0</td>\n",
       "      <td>0.0</td>\n",
       "      <td>4</td>\n",
       "      <td>2022</td>\n",
       "      <td>4</td>\n",
       "      <td>1</td>\n",
       "    </tr>\n",
       "  </tbody>\n",
       "</table>\n",
       "<p>5 rows × 27 columns</p>\n",
       "</div>"
      ],
      "text/plain": [
       "   Unnamed: 0.1  Unnamed: 0  FlightDate  Airline  \\\n",
       "0             0           0  2022-04-04        7   \n",
       "1            64          64  2022-04-04       15   \n",
       "2           128         128  2022-04-04        0   \n",
       "3           192         192  2022-04-04        0   \n",
       "4           256         256  2022-04-04        0   \n",
       "\n",
       "   Flight_Number_Marketing_Airline  Origin  Dest  Cancelled  Diverted  \\\n",
       "0                             4301     144    98          0         0   \n",
       "1                             4183      96   123          0         0   \n",
       "2                             3908     265   368          0         0   \n",
       "3                             3812      72   264          0         0   \n",
       "4                             3744     265   332          0         0   \n",
       "\n",
       "   CRSDepTime  ...  DestStateName  TaxiOut  TaxiIn  CRSArrTime  ArrTime  \\\n",
       "0        1133  ...              5     17.0     8.0        1245   1228.0   \n",
       "1        1600  ...             29     18.0     7.0        1744   1702.0   \n",
       "2        1820  ...             21     13.0     3.0        2034   2012.0   \n",
       "3        1110  ...             12      9.0    10.0        1234   1204.0   \n",
       "4         851  ...             24     21.0     6.0        1039   1038.0   \n",
       "\n",
       "   ArrDelayMinutes  DelayGroup  Year  Month  DelayOk  \n",
       "0              0.0           3  2022      4        1  \n",
       "1              0.0           3  2022      4        1  \n",
       "2              0.0           3  2022      4        1  \n",
       "3              0.0           3  2022      4        1  \n",
       "4              0.0           4  2022      4        1  \n",
       "\n",
       "[5 rows x 27 columns]"
      ]
     },
     "execution_count": 55,
     "metadata": {},
     "output_type": "execute_result"
    }
   ],
   "source": [
    "df.head()"
   ]
  },
  {
   "cell_type": "code",
   "execution_count": 56,
   "metadata": {
    "colab": {
     "base_uri": "https://localhost:8080/"
    },
    "id": "Nx2AhgI-xuw5",
    "outputId": "ecae40e9-a773-484c-93b2-6dcf08d7b9e7"
   },
   "outputs": [
    {
     "data": {
      "text/plain": [
       "Index(['Unnamed: 0.1', 'Unnamed: 0', 'FlightDate', 'Airline',\n",
       "       'Flight_Number_Marketing_Airline', 'Origin', 'Dest', 'Cancelled',\n",
       "       'Diverted', 'CRSDepTime', 'DepTime', 'DepDelayMinutes',\n",
       "       'OriginAirportID', 'OriginCityName', 'OriginStateName', 'DestAirportID',\n",
       "       'DestCityName', 'DestStateName', 'TaxiOut', 'TaxiIn', 'CRSArrTime',\n",
       "       'ArrTime', 'ArrDelayMinutes', 'DelayGroup', 'Year', 'Month', 'DelayOk'],\n",
       "      dtype='object')"
      ]
     },
     "execution_count": 56,
     "metadata": {},
     "output_type": "execute_result"
    }
   ],
   "source": [
    "df.columns"
   ]
  },
  {
   "cell_type": "code",
   "execution_count": 57,
   "metadata": {
    "id": "KJtO6LQgPdnE"
   },
   "outputs": [],
   "source": [
    "new_df=df[df['Year']!=2020]"
   ]
  },
  {
   "cell_type": "markdown",
   "metadata": {
    "id": "PiBRNOW9OiVG"
   },
   "source": [
    "# **Splitting Dataset**"
   ]
  },
  {
   "cell_type": "code",
   "execution_count": 58,
   "metadata": {
    "id": "ZgfnFRb8OXfW"
   },
   "outputs": [],
   "source": [
    "X=new_df.iloc[:,2:-1]\n",
    "X.drop(['FlightDate','DelayGroup','DepTime','DepDelayMinutes','ArrTime','ArrDelayMinutes','TaxiIn','TaxiOut','Cancelled','Diverted','Flight_Number_Marketing_Airline','OriginAirportID','DestAirportID'],axis=1,inplace=True)\n",
    "y=new_df.iloc[:,-1:]"
   ]
  },
  {
   "cell_type": "code",
   "execution_count": 59,
   "metadata": {
    "colab": {
     "base_uri": "https://localhost:8080/",
     "height": 424
    },
    "id": "bKOPlszOO-fG",
    "outputId": "003f160d-886b-46f6-8976-21d35d9ae771"
   },
   "outputs": [
    {
     "data": {
      "text/html": [
       "<div>\n",
       "<style scoped>\n",
       "    .dataframe tbody tr th:only-of-type {\n",
       "        vertical-align: middle;\n",
       "    }\n",
       "\n",
       "    .dataframe tbody tr th {\n",
       "        vertical-align: top;\n",
       "    }\n",
       "\n",
       "    .dataframe thead th {\n",
       "        text-align: right;\n",
       "    }\n",
       "</style>\n",
       "<table border=\"1\" class=\"dataframe\">\n",
       "  <thead>\n",
       "    <tr style=\"text-align: right;\">\n",
       "      <th></th>\n",
       "      <th>Airline</th>\n",
       "      <th>Origin</th>\n",
       "      <th>Dest</th>\n",
       "      <th>CRSDepTime</th>\n",
       "      <th>OriginCityName</th>\n",
       "      <th>OriginStateName</th>\n",
       "      <th>DestCityName</th>\n",
       "      <th>DestStateName</th>\n",
       "      <th>CRSArrTime</th>\n",
       "      <th>Year</th>\n",
       "      <th>Month</th>\n",
       "    </tr>\n",
       "  </thead>\n",
       "  <tbody>\n",
       "    <tr>\n",
       "      <th>0</th>\n",
       "      <td>7</td>\n",
       "      <td>144</td>\n",
       "      <td>98</td>\n",
       "      <td>1133</td>\n",
       "      <td>129</td>\n",
       "      <td>5</td>\n",
       "      <td>89</td>\n",
       "      <td>5</td>\n",
       "      <td>1245</td>\n",
       "      <td>2022</td>\n",
       "      <td>4</td>\n",
       "    </tr>\n",
       "    <tr>\n",
       "      <th>1</th>\n",
       "      <td>15</td>\n",
       "      <td>96</td>\n",
       "      <td>123</td>\n",
       "      <td>1600</td>\n",
       "      <td>361</td>\n",
       "      <td>48</td>\n",
       "      <td>243</td>\n",
       "      <td>29</td>\n",
       "      <td>1744</td>\n",
       "      <td>2022</td>\n",
       "      <td>4</td>\n",
       "    </tr>\n",
       "    <tr>\n",
       "      <th>2</th>\n",
       "      <td>0</td>\n",
       "      <td>265</td>\n",
       "      <td>368</td>\n",
       "      <td>1820</td>\n",
       "      <td>65</td>\n",
       "      <td>12</td>\n",
       "      <td>348</td>\n",
       "      <td>21</td>\n",
       "      <td>2034</td>\n",
       "      <td>2022</td>\n",
       "      <td>4</td>\n",
       "    </tr>\n",
       "    <tr>\n",
       "      <th>3</th>\n",
       "      <td>0</td>\n",
       "      <td>72</td>\n",
       "      <td>264</td>\n",
       "      <td>1110</td>\n",
       "      <td>56</td>\n",
       "      <td>14</td>\n",
       "      <td>65</td>\n",
       "      <td>12</td>\n",
       "      <td>1234</td>\n",
       "      <td>2022</td>\n",
       "      <td>4</td>\n",
       "    </tr>\n",
       "    <tr>\n",
       "      <th>4</th>\n",
       "      <td>0</td>\n",
       "      <td>265</td>\n",
       "      <td>332</td>\n",
       "      <td>851</td>\n",
       "      <td>65</td>\n",
       "      <td>12</td>\n",
       "      <td>333</td>\n",
       "      <td>24</td>\n",
       "      <td>1039</td>\n",
       "      <td>2022</td>\n",
       "      <td>4</td>\n",
       "    </tr>\n",
       "    <tr>\n",
       "      <th>...</th>\n",
       "      <td>...</td>\n",
       "      <td>...</td>\n",
       "      <td>...</td>\n",
       "      <td>...</td>\n",
       "      <td>...</td>\n",
       "      <td>...</td>\n",
       "      <td>...</td>\n",
       "      <td>...</td>\n",
       "      <td>...</td>\n",
       "      <td>...</td>\n",
       "      <td>...</td>\n",
       "    </tr>\n",
       "    <tr>\n",
       "      <th>456147</th>\n",
       "      <td>13</td>\n",
       "      <td>265</td>\n",
       "      <td>83</td>\n",
       "      <td>1937</td>\n",
       "      <td>65</td>\n",
       "      <td>12</td>\n",
       "      <td>74</td>\n",
       "      <td>24</td>\n",
       "      <td>2109</td>\n",
       "      <td>2019</td>\n",
       "      <td>1</td>\n",
       "    </tr>\n",
       "    <tr>\n",
       "      <th>456148</th>\n",
       "      <td>13</td>\n",
       "      <td>96</td>\n",
       "      <td>123</td>\n",
       "      <td>750</td>\n",
       "      <td>361</td>\n",
       "      <td>48</td>\n",
       "      <td>243</td>\n",
       "      <td>29</td>\n",
       "      <td>909</td>\n",
       "      <td>2019</td>\n",
       "      <td>1</td>\n",
       "    </tr>\n",
       "    <tr>\n",
       "      <th>456150</th>\n",
       "      <td>13</td>\n",
       "      <td>265</td>\n",
       "      <td>46</td>\n",
       "      <td>1530</td>\n",
       "      <td>65</td>\n",
       "      <td>12</td>\n",
       "      <td>238</td>\n",
       "      <td>42</td>\n",
       "      <td>1712</td>\n",
       "      <td>2019</td>\n",
       "      <td>1</td>\n",
       "    </tr>\n",
       "    <tr>\n",
       "      <th>456151</th>\n",
       "      <td>13</td>\n",
       "      <td>265</td>\n",
       "      <td>106</td>\n",
       "      <td>1010</td>\n",
       "      <td>65</td>\n",
       "      <td>12</td>\n",
       "      <td>90</td>\n",
       "      <td>14</td>\n",
       "      <td>1138</td>\n",
       "      <td>2019</td>\n",
       "      <td>1</td>\n",
       "    </tr>\n",
       "    <tr>\n",
       "      <th>456152</th>\n",
       "      <td>13</td>\n",
       "      <td>175</td>\n",
       "      <td>244</td>\n",
       "      <td>1940</td>\n",
       "      <td>155</td>\n",
       "      <td>43</td>\n",
       "      <td>228</td>\n",
       "      <td>0</td>\n",
       "      <td>2100</td>\n",
       "      <td>2019</td>\n",
       "      <td>1</td>\n",
       "    </tr>\n",
       "  </tbody>\n",
       "</table>\n",
       "<p>369103 rows × 11 columns</p>\n",
       "</div>"
      ],
      "text/plain": [
       "        Airline  Origin  Dest  CRSDepTime  OriginCityName  OriginStateName  \\\n",
       "0             7     144    98        1133             129                5   \n",
       "1            15      96   123        1600             361               48   \n",
       "2             0     265   368        1820              65               12   \n",
       "3             0      72   264        1110              56               14   \n",
       "4             0     265   332         851              65               12   \n",
       "...         ...     ...   ...         ...             ...              ...   \n",
       "456147       13     265    83        1937              65               12   \n",
       "456148       13      96   123         750             361               48   \n",
       "456150       13     265    46        1530              65               12   \n",
       "456151       13     265   106        1010              65               12   \n",
       "456152       13     175   244        1940             155               43   \n",
       "\n",
       "        DestCityName  DestStateName  CRSArrTime  Year  Month  \n",
       "0                 89              5        1245  2022      4  \n",
       "1                243             29        1744  2022      4  \n",
       "2                348             21        2034  2022      4  \n",
       "3                 65             12        1234  2022      4  \n",
       "4                333             24        1039  2022      4  \n",
       "...              ...            ...         ...   ...    ...  \n",
       "456147            74             24        2109  2019      1  \n",
       "456148           243             29         909  2019      1  \n",
       "456150           238             42        1712  2019      1  \n",
       "456151            90             14        1138  2019      1  \n",
       "456152           228              0        2100  2019      1  \n",
       "\n",
       "[369103 rows x 11 columns]"
      ]
     },
     "execution_count": 59,
     "metadata": {},
     "output_type": "execute_result"
    }
   ],
   "source": [
    "X"
   ]
  },
  {
   "cell_type": "code",
   "execution_count": 60,
   "metadata": {
    "colab": {
     "base_uri": "https://localhost:8080/",
     "height": 424
    },
    "id": "qYUrgZ_rO-fG",
    "outputId": "b7d68214-da75-493f-d795-2ff976bd391a"
   },
   "outputs": [
    {
     "data": {
      "text/html": [
       "<div>\n",
       "<style scoped>\n",
       "    .dataframe tbody tr th:only-of-type {\n",
       "        vertical-align: middle;\n",
       "    }\n",
       "\n",
       "    .dataframe tbody tr th {\n",
       "        vertical-align: top;\n",
       "    }\n",
       "\n",
       "    .dataframe thead th {\n",
       "        text-align: right;\n",
       "    }\n",
       "</style>\n",
       "<table border=\"1\" class=\"dataframe\">\n",
       "  <thead>\n",
       "    <tr style=\"text-align: right;\">\n",
       "      <th></th>\n",
       "      <th>DelayOk</th>\n",
       "    </tr>\n",
       "  </thead>\n",
       "  <tbody>\n",
       "    <tr>\n",
       "      <th>0</th>\n",
       "      <td>1</td>\n",
       "    </tr>\n",
       "    <tr>\n",
       "      <th>1</th>\n",
       "      <td>1</td>\n",
       "    </tr>\n",
       "    <tr>\n",
       "      <th>2</th>\n",
       "      <td>1</td>\n",
       "    </tr>\n",
       "    <tr>\n",
       "      <th>3</th>\n",
       "      <td>1</td>\n",
       "    </tr>\n",
       "    <tr>\n",
       "      <th>4</th>\n",
       "      <td>1</td>\n",
       "    </tr>\n",
       "    <tr>\n",
       "      <th>...</th>\n",
       "      <td>...</td>\n",
       "    </tr>\n",
       "    <tr>\n",
       "      <th>456147</th>\n",
       "      <td>1</td>\n",
       "    </tr>\n",
       "    <tr>\n",
       "      <th>456148</th>\n",
       "      <td>1</td>\n",
       "    </tr>\n",
       "    <tr>\n",
       "      <th>456150</th>\n",
       "      <td>1</td>\n",
       "    </tr>\n",
       "    <tr>\n",
       "      <th>456151</th>\n",
       "      <td>0</td>\n",
       "    </tr>\n",
       "    <tr>\n",
       "      <th>456152</th>\n",
       "      <td>1</td>\n",
       "    </tr>\n",
       "  </tbody>\n",
       "</table>\n",
       "<p>369103 rows × 1 columns</p>\n",
       "</div>"
      ],
      "text/plain": [
       "        DelayOk\n",
       "0             1\n",
       "1             1\n",
       "2             1\n",
       "3             1\n",
       "4             1\n",
       "...         ...\n",
       "456147        1\n",
       "456148        1\n",
       "456150        1\n",
       "456151        0\n",
       "456152        1\n",
       "\n",
       "[369103 rows x 1 columns]"
      ]
     },
     "execution_count": 60,
     "metadata": {},
     "output_type": "execute_result"
    }
   ],
   "source": [
    "y"
   ]
  },
  {
   "cell_type": "code",
   "execution_count": 61,
   "metadata": {
    "id": "ngOic1TaO-fG"
   },
   "outputs": [],
   "source": [
    "from sklearn.model_selection import train_test_split\n",
    "X_train, X_test, y_train, y_test = train_test_split(X, y, test_size = 0.2, random_state = 32)"
   ]
  },
  {
   "cell_type": "markdown",
   "metadata": {
    "id": "IXAO44-moxS4"
   },
   "source": [
    "# **Model Training Using Logistic Regression**"
   ]
  },
  {
   "cell_type": "code",
   "execution_count": 62,
   "metadata": {
    "colab": {
     "base_uri": "https://localhost:8080/"
    },
    "id": "Ifq6To-Sgd0w",
    "outputId": "ed5a96b3-e140-4059-b1a1-5e7ceddd8762"
   },
   "outputs": [
    {
     "name": "stderr",
     "output_type": "stream",
     "text": [
      "C:\\Users\\Bhoomika\\Desktop\\project_1\\env\\lib\\site-packages\\sklearn\\utils\\validation.py:1184: DataConversionWarning: A column-vector y was passed when a 1d array was expected. Please change the shape of y to (n_samples, ), for example using ravel().\n",
      "  y = column_or_1d(y, warn=True)\n",
      "C:\\Users\\Bhoomika\\Desktop\\project_1\\env\\lib\\site-packages\\sklearn\\linear_model\\_logistic.py:460: ConvergenceWarning: lbfgs failed to converge (status=1):\n",
      "STOP: TOTAL NO. of ITERATIONS REACHED LIMIT.\n",
      "\n",
      "Increase the number of iterations (max_iter) or scale the data as shown in:\n",
      "    https://scikit-learn.org/stable/modules/preprocessing.html\n",
      "Please also refer to the documentation for alternative solver options:\n",
      "    https://scikit-learn.org/stable/modules/linear_model.html#logistic-regression\n",
      "  n_iter_i = _check_optimize_result(\n"
     ]
    }
   ],
   "source": [
    "from sklearn.linear_model import LogisticRegression\n",
    "classifier2 = LogisticRegression(random_state = 0)\n",
    "classifier2.fit(X_train, y_train)\n",
    "\n",
    "y_pred = classifier2.predict(X_test)"
   ]
  },
  {
   "cell_type": "code",
   "execution_count": 63,
   "metadata": {
    "colab": {
     "base_uri": "https://localhost:8080/"
    },
    "id": "_8XGxMR6jkR3",
    "outputId": "d80deac5-6559-4c26-c509-e30cd8c0fd37"
   },
   "outputs": [
    {
     "data": {
      "text/plain": [
       "1    73821\n",
       "Name: count, dtype: int64"
      ]
     },
     "execution_count": 63,
     "metadata": {},
     "output_type": "execute_result"
    }
   ],
   "source": [
    "pd.Series(y_pred).value_counts()"
   ]
  },
  {
   "cell_type": "markdown",
   "metadata": {
    "id": "bCMSDfoup8gc"
   },
   "source": [
    "## **Evaluation**"
   ]
  },
  {
   "cell_type": "markdown",
   "metadata": {
    "id": "qMVnMkMgqQZo"
   },
   "source": [
    "### **Testing Accuracy**"
   ]
  },
  {
   "cell_type": "code",
   "execution_count": 64,
   "metadata": {
    "colab": {
     "base_uri": "https://localhost:8080/"
    },
    "id": "ylgdNwwMgd0w",
    "outputId": "a6093f4b-f950-4ce8-eb7e-10a612b902f2"
   },
   "outputs": [
    {
     "name": "stdout",
     "output_type": "stream",
     "text": [
      "              precision    recall  f1-score   support\n",
      "\n",
      "           0       0.00      0.00      0.00     13361\n",
      "           1       0.82      1.00      0.90     60460\n",
      "\n",
      "    accuracy                           0.82     73821\n",
      "   macro avg       0.41      0.50      0.45     73821\n",
      "weighted avg       0.67      0.82      0.74     73821\n",
      "\n"
     ]
    },
    {
     "name": "stderr",
     "output_type": "stream",
     "text": [
      "C:\\Users\\Bhoomika\\Desktop\\project_1\\env\\lib\\site-packages\\sklearn\\metrics\\_classification.py:1469: UndefinedMetricWarning: Precision and F-score are ill-defined and being set to 0.0 in labels with no predicted samples. Use `zero_division` parameter to control this behavior.\n",
      "  _warn_prf(average, modifier, msg_start, len(result))\n",
      "C:\\Users\\Bhoomika\\Desktop\\project_1\\env\\lib\\site-packages\\sklearn\\metrics\\_classification.py:1469: UndefinedMetricWarning: Precision and F-score are ill-defined and being set to 0.0 in labels with no predicted samples. Use `zero_division` parameter to control this behavior.\n",
      "  _warn_prf(average, modifier, msg_start, len(result))\n",
      "C:\\Users\\Bhoomika\\Desktop\\project_1\\env\\lib\\site-packages\\sklearn\\metrics\\_classification.py:1469: UndefinedMetricWarning: Precision and F-score are ill-defined and being set to 0.0 in labels with no predicted samples. Use `zero_division` parameter to control this behavior.\n",
      "  _warn_prf(average, modifier, msg_start, len(result))\n"
     ]
    }
   ],
   "source": [
    "from sklearn.metrics import classification_report\n",
    "print(classification_report(y_test,y_pred))"
   ]
  },
  {
   "cell_type": "code",
   "execution_count": 65,
   "metadata": {
    "colab": {
     "base_uri": "https://localhost:8080/",
     "height": 452
    },
    "id": "NHrpQSgAgd0w",
    "outputId": "75723794-d2ab-4474-baed-41ad494a3534"
   },
   "outputs": [
    {
     "data": {
      "image/png": "[encoded data removed]",
      "text/plain": [
       "<Figure size 640x480 with 2 Axes>"
      ]
     },
     "metadata": {},
     "output_type": "display_data"
    }
   ],
   "source": [
    "import matplotlib.pyplot as plt\n",
    "import numpy\n",
    "from sklearn import metrics\n",
    "\n",
    "confusion_matrix = metrics.confusion_matrix(y_test, y_pred)\n",
    "\n",
    "cm_display = metrics.ConfusionMatrixDisplay(confusion_matrix = confusion_matrix, display_labels = ['Delay_Not_Ok', 'Delay_Ok'])\n",
    "\n",
    "cm_display.plot()\n",
    "plt.show()"
   ]
  },
  {
   "cell_type": "markdown",
   "metadata": {
    "id": "73KBwBFOqfpv"
   },
   "source": [
    "### **Training Accuracy**"
   ]
  },
  {
   "cell_type": "code",
   "execution_count": 66,
   "metadata": {
    "id": "o9VmUZAsgd0w"
   },
   "outputs": [],
   "source": [
    "y_pred2=classifier2.predict(X_train)"
   ]
  },
  {
   "cell_type": "code",
   "execution_count": 67,
   "metadata": {
    "colab": {
     "base_uri": "https://localhost:8080/"
    },
    "id": "T33Jtrfwgd0w",
    "outputId": "14c7a982-0cbe-4d63-a0f1-4036831f1a41"
   },
   "outputs": [
    {
     "name": "stdout",
     "output_type": "stream",
     "text": [
      "              precision    recall  f1-score   support\n",
      "\n",
      "           0       0.00      0.00      0.00     53808\n",
      "           1       0.82      1.00      0.90    241474\n",
      "\n",
      "    accuracy                           0.82    295282\n",
      "   macro avg       0.41      0.50      0.45    295282\n",
      "weighted avg       0.67      0.82      0.74    295282\n",
      "\n"
     ]
    },
    {
     "name": "stderr",
     "output_type": "stream",
     "text": [
      "C:\\Users\\Bhoomika\\Desktop\\project_1\\env\\lib\\site-packages\\sklearn\\metrics\\_classification.py:1469: UndefinedMetricWarning: Precision and F-score are ill-defined and being set to 0.0 in labels with no predicted samples. Use `zero_division` parameter to control this behavior.\n",
      "  _warn_prf(average, modifier, msg_start, len(result))\n",
      "C:\\Users\\Bhoomika\\Desktop\\project_1\\env\\lib\\site-packages\\sklearn\\metrics\\_classification.py:1469: UndefinedMetricWarning: Precision and F-score are ill-defined and being set to 0.0 in labels with no predicted samples. Use `zero_division` parameter to control this behavior.\n",
      "  _warn_prf(average, modifier, msg_start, len(result))\n",
      "C:\\Users\\Bhoomika\\Desktop\\project_1\\env\\lib\\site-packages\\sklearn\\metrics\\_classification.py:1469: UndefinedMetricWarning: Precision and F-score are ill-defined and being set to 0.0 in labels with no predicted samples. Use `zero_division` parameter to control this behavior.\n",
      "  _warn_prf(average, modifier, msg_start, len(result))\n"
     ]
    }
   ],
   "source": [
    "from sklearn.metrics import classification_report\n",
    "print(classification_report(y_train,y_pred2))"
   ]
  },
  {
   "cell_type": "markdown",
   "metadata": {
    "id": "gNYH6aJCQF-B"
   },
   "source": [
    "# **Model Training Using XGBoost**"
   ]
  },
  {
   "cell_type": "code",
   "execution_count": 68,
   "metadata": {
    "id": "o8-01WmjO-fL"
   },
   "outputs": [],
   "source": [
    "from xgboost import XGBClassifier\n",
    "classifier = XGBClassifier()\n",
    "classifier.fit(X_train,y_train)\n",
    "\n",
    "y_pred = classifier.predict(X_test)"
   ]
  },
  {
   "cell_type": "markdown",
   "metadata": {
    "id": "hbSJ2XOyQjBR"
   },
   "source": [
    "## **Evaluation**"
   ]
  },
  {
   "cell_type": "markdown",
   "metadata": {
    "id": "KH37HE_xQ2QL"
   },
   "source": [
    "### **Testing Accuracy**"
   ]
  },
  {
   "cell_type": "code",
   "execution_count": 69,
   "metadata": {
    "colab": {
     "base_uri": "https://localhost:8080/"
    },
    "id": "JDAarHN7jnTB",
    "outputId": "07a03a6e-35bf-46cb-a269-8d7837ad9ba2"
   },
   "outputs": [
    {
     "data": {
      "text/plain": [
       "1    72623\n",
       "0     1198\n",
       "Name: count, dtype: int64"
      ]
     },
     "execution_count": 69,
     "metadata": {},
     "output_type": "execute_result"
    }
   ],
   "source": [
    "pd.Series(y_pred).value_counts()"
   ]
  },
  {
   "cell_type": "code",
   "execution_count": 70,
   "metadata": {
    "colab": {
     "base_uri": "https://localhost:8080/"
    },
    "id": "G9o3X5R3O-fL",
    "outputId": "045c7f32-68eb-4ea0-8dc2-7ed12f88f48e"
   },
   "outputs": [
    {
     "name": "stdout",
     "output_type": "stream",
     "text": [
      "              precision    recall  f1-score   support\n",
      "\n",
      "           0       0.53      0.05      0.09     13361\n",
      "           1       0.82      0.99      0.90     60460\n",
      "\n",
      "    accuracy                           0.82     73821\n",
      "   macro avg       0.68      0.52      0.49     73821\n",
      "weighted avg       0.77      0.82      0.75     73821\n",
      "\n"
     ]
    }
   ],
   "source": [
    "from sklearn.metrics import classification_report\n",
    "print(classification_report(y_test,y_pred))"
   ]
  },
  {
   "cell_type": "code",
   "execution_count": 71,
   "metadata": {
    "colab": {
     "base_uri": "https://localhost:8080/",
     "height": 450
    },
    "id": "89UWMPoyO-fM",
    "outputId": "d018085f-0a75-41cd-fb04-9a7caf04e379"
   },
   "outputs": [
    {
     "data": {
      "image/png": "[encoded data removed]",
      "text/plain": [
       "<Figure size 640x480 with 2 Axes>"
      ]
     },
     "metadata": {},
     "output_type": "display_data"
    }
   ],
   "source": [
    "import matplotlib.pyplot as plt\n",
    "import numpy\n",
    "from sklearn import metrics\n",
    "\n",
    "confusion_matrix = metrics.confusion_matrix(y_test, y_pred)\n",
    "\n",
    "cm_display = metrics.ConfusionMatrixDisplay(confusion_matrix = confusion_matrix, display_labels = ['Delay_Not_Ok', 'Delay_Ok'])\n",
    "\n",
    "cm_display.plot()\n",
    "plt.show()"
   ]
  },
  {
   "cell_type": "markdown",
   "metadata": {
    "id": "_ujoXNrKQ8jo"
   },
   "source": [
    "### **Training Accuracy**"
   ]
  },
  {
   "cell_type": "code",
   "execution_count": 72,
   "metadata": {
    "id": "l9F_utyhO-fM"
   },
   "outputs": [],
   "source": [
    "y_pred2 = classifier.predict(X_train)"
   ]
  },
  {
   "cell_type": "code",
   "execution_count": 73,
   "metadata": {
    "colab": {
     "base_uri": "https://localhost:8080/"
    },
    "id": "SU1YMWgNO-fM",
    "outputId": "bfbf4204-3d36-4f84-da31-da3fa5bce34f"
   },
   "outputs": [
    {
     "name": "stdout",
     "output_type": "stream",
     "text": [
      "              precision    recall  f1-score   support\n",
      "\n",
      "           0       0.68      0.06      0.12     53808\n",
      "           1       0.83      0.99      0.90    241474\n",
      "\n",
      "    accuracy                           0.82    295282\n",
      "   macro avg       0.75      0.53      0.51    295282\n",
      "weighted avg       0.80      0.82      0.76    295282\n",
      "\n"
     ]
    }
   ],
   "source": [
    "from sklearn.metrics import classification_report\n",
    "print(classification_report(y_train,y_pred2))"
   ]
  },
  {
   "cell_type": "markdown",
   "metadata": {
    "id": "XWRXbQNKsYYf"
   },
   "source": [
    "## **Hyperparameter Tuning**"
   ]
  },
  {
   "cell_type": "code",
   "execution_count": 74,
   "metadata": {
    "colab": {
     "base_uri": "https://localhost:8080/"
    },
    "id": "HYHonQRrWbZv",
    "outputId": "413ef642-2163-4a74-99ef-c0e72322d5ee"
   },
   "outputs": [
    {
     "name": "stdout",
     "output_type": "stream",
     "text": [
      "Fitting 5 folds for each of 100 candidates, totalling 500 fits\n"
     ]
    },
    {
     "name": "stderr",
     "output_type": "stream",
     "text": [
      "\n",
      "KeyboardInterrupt\n",
      "\n"
     ]
    }
   ],
   "source": [
    "from scipy.stats import randint\n",
    "from xgboost import XGBClassifier\n",
    "from sklearn.model_selection import RandomizedSearchCV\n",
    "\n",
    "param_dist={\"learning_rate\" : [0.05,0.10,0.15,0.20,0.25,0.30],\n",
    " \"max_depth\" : [ 3, 4, 5, 6, 8, 10, 12, 15],\n",
    " \"min_child_weight\" : [ 1, 3, 5, 7 ],\n",
    " \"gamma\": [ 0.0, 0.1, 0.2 , 0.3, 0.4 ],\n",
    " \"colsample_bytree\" : [ 0.3, 0.4, 0.5 , 0.7 ]}\n",
    "\n",
    "tree = XGBClassifier()\n",
    "\n",
    "tree_cv = rf_random = RandomizedSearchCV(estimator = tree, param_distributions = param_dist, n_iter = 100, cv = 5, verbose=2, random_state=35, n_jobs = -1)\n",
    "\n",
    "tree_cv.fit(X_train,y_train)\n",
    "\n",
    "print(\"Tuned Decision Tree Parameters: {}\".format(tree_cv.best_params_))\n",
    "print(\"Best score is {}\".format(tree_cv.best_score_))"
   ]
  },
  {
   "cell_type": "markdown",
   "metadata": {
    "id": "J0nAkI3mRdh8"
   },
   "source": [
    "# **Conclusion**\n",
    "\n",
    "* Logistic Regression as well as XGBoost have the same accuracy even after hyperparameter tuning. We'll move forward with XGBoostClassifier.\n",
    "* Ideally a higher number of False Negatives won't harm us as if the model suggests that there would be a flight delay and in reality there isn't, the person won't miss the connecting flight or meeting.\n",
    "* We need as low as possible number of False Positives as if the model says the flight will not be delayed but if in reality it gets delayed, the person may miss the connecting Flight.\n",
    "* We hence see that the XGBoost model trained on the dataset without the year 2020, seems to have the best balance of False Negatives and False positives while still maintaining a decent accuracy of 82%. So we choose this model as our final model."
   ]
  },
  {
   "cell_type": "markdown",
   "metadata": {
    "id": "AABHxS36OdbD"
   },
   "source": [
    "# **Making pickle file**"
   ]
  },
  {
   "cell_type": "code",
   "execution_count": 75,
   "metadata": {
    "colab": {
     "base_uri": "https://localhost:8080/"
    },
    "id": "50cKwVVyRh1l",
    "outputId": "bd101b96-e71e-468a-c214-02d9be5910b3"
   },
   "outputs": [
    {
     "data": {
      "text/plain": [
       "Index(['Airline', 'Origin', 'Dest', 'CRSDepTime', 'OriginCityName',\n",
       "       'OriginStateName', 'DestCityName', 'DestStateName', 'CRSArrTime',\n",
       "       'Year', 'Month'],\n",
       "      dtype='object')"
      ]
     },
     "execution_count": 75,
     "metadata": {},
     "output_type": "execute_result"
    }
   ],
   "source": [
    "X.columns"
   ]
  },
  {
   "cell_type": "code",
   "execution_count": 76,
   "metadata": {
    "id": "aKF5E6LdVO1E"
   },
   "outputs": [],
   "source": [
    "import pickle\n",
    "with open('flight_delay.pkl', 'wb') as file:\n",
    "    pickle.dump(classifier, file)"
   ]
  },
  {
   "cell_type": "code",
   "execution_count": 77,
   "metadata": {
    "id": "mL4GwaKVVd8s"
   },
   "outputs": [],
   "source": [
    "with open('flight_delay.pkl', 'rb') as file:\n",
    "    loaded_model = pickle.load(file)"
   ]
  },
  {
   "cell_type": "code",
   "execution_count": 78,
   "metadata": {
    "colab": {
     "base_uri": "https://localhost:8080/",
     "height": 248
    },
    "id": "BzxFfigOVilY",
    "outputId": "3a93202e-738e-436b-d2d4-9058b0e34d2f"
   },
   "outputs": [
    {
     "data": {
      "text/html": [
       "<style>#sk-container-id-2 {color: black;}#sk-container-id-2 pre{padding: 0;}#sk-container-id-2 div.sk-toggleable {background-color: white;}#sk-container-id-2 label.sk-toggleable__label {cursor: pointer;display: block;width: 100%;margin-bottom: 0;padding: 0.3em;box-sizing: border-box;text-align: center;}#sk-container-id-2 label.sk-toggleable__label-arrow:before {content: \"▸\";float: left;margin-right: 0.25em;color: #696969;}#sk-container-id-2 label.sk-toggleable__label-arrow:hover:before {color: black;}#sk-container-id-2 div.sk-estimator:hover label.sk-toggleable__label-arrow:before {color: black;}#sk-container-id-2 div.sk-toggleable__content {max-height: 0;max-width: 0;overflow: hidden;text-align: left;background-color: #f0f8ff;}#sk-container-id-2 div.sk-toggleable__content pre {margin: 0.2em;color: black;border-radius: 0.25em;background-color: #f0f8ff;}#sk-container-id-2 input.sk-toggleable__control:checked~div.sk-toggleable__content {max-height: 200px;max-width: 100%;overflow: auto;}#sk-container-id-2 input.sk-toggleable__control:checked~label.sk-toggleable__label-arrow:before {content: \"▾\";}#sk-container-id-2 div.sk-estimator input.sk-toggleable__control:checked~label.sk-toggleable__label {background-color: #d4ebff;}#sk-container-id-2 div.sk-label input.sk-toggleable__control:checked~label.sk-toggleable__label {background-color: #d4ebff;}#sk-container-id-2 input.sk-hidden--visually {border: 0;clip: rect(1px 1px 1px 1px);clip: rect(1px, 1px, 1px, 1px);height: 1px;margin: -1px;overflow: hidden;padding: 0;position: absolute;width: 1px;}#sk-container-id-2 div.sk-estimator {font-family: monospace;background-color: #f0f8ff;border: 1px dotted black;border-radius: 0.25em;box-sizing: border-box;margin-bottom: 0.5em;}#sk-container-id-2 div.sk-estimator:hover {background-color: #d4ebff;}#sk-container-id-2 div.sk-parallel-item::after {content: \"\";width: 100%;border-bottom: 1px solid gray;flex-grow: 1;}#sk-container-id-2 div.sk-label:hover label.sk-toggleable__label {background-color: #d4ebff;}#sk-container-id-2 div.sk-serial::before {content: \"\";position: absolute;border-left: 1px solid gray;box-sizing: border-box;top: 0;bottom: 0;left: 50%;z-index: 0;}#sk-container-id-2 div.sk-serial {display: flex;flex-direction: column;align-items: center;background-color: white;padding-right: 0.2em;padding-left: 0.2em;position: relative;}#sk-container-id-2 div.sk-item {position: relative;z-index: 1;}#sk-container-id-2 div.sk-parallel {display: flex;align-items: stretch;justify-content: center;background-color: white;position: relative;}#sk-container-id-2 div.sk-item::before, #sk-container-id-2 div.sk-parallel-item::before {content: \"\";position: absolute;border-left: 1px solid gray;box-sizing: border-box;top: 0;bottom: 0;left: 50%;z-index: -1;}#sk-container-id-2 div.sk-parallel-item {display: flex;flex-direction: column;z-index: 1;position: relative;background-color: white;}#sk-container-id-2 div.sk-parallel-item:first-child::after {align-self: flex-end;width: 50%;}#sk-container-id-2 div.sk-parallel-item:last-child::after {align-self: flex-start;width: 50%;}#sk-container-id-2 div.sk-parallel-item:only-child::after {width: 0;}#sk-container-id-2 div.sk-dashed-wrapped {border: 1px dashed gray;margin: 0 0.4em 0.5em 0.4em;box-sizing: border-box;padding-bottom: 0.4em;background-color: white;}#sk-container-id-2 div.sk-label label {font-family: monospace;font-weight: bold;display: inline-block;line-height: 1.2em;}#sk-container-id-2 div.sk-label-container {text-align: center;}#sk-container-id-2 div.sk-container {/* jupyter's `normalize.less` sets `[hidden] { display: none; }` but bootstrap.min.css set `[hidden] { display: none !important; }` so we also need the `!important` here to be able to override the default hidden behavior on the sphinx rendered scikit-learn.org. See: https://github.com/scikit-learn/scikit-learn/issues/21755 */display: inline-block !important;position: relative;}#sk-container-id-2 div.sk-text-repr-fallback {display: none;}</style><div id=\"sk-container-id-2\" class=\"sk-top-container\"><div class=\"sk-text-repr-fallback\"><pre>XGBClassifier(base_score=None, booster=None, callbacks=None,\n",
       "              colsample_bylevel=None, colsample_bynode=None,\n",
       "              colsample_bytree=None, early_stopping_rounds=None,\n",
       "              enable_categorical=False, eval_metric=None, feature_types=None,\n",
       "              gamma=None, gpu_id=None, grow_policy=None, importance_type=None,\n",
       "              interaction_constraints=None, learning_rate=None, max_bin=None,\n",
       "              max_cat_threshold=None, max_cat_to_onehot=None,\n",
       "              max_delta_step=None, max_depth=None, max_leaves=None,\n",
       "              min_child_weight=None, missing=nan, monotone_constraints=None,\n",
       "              n_estimators=100, n_jobs=None, num_parallel_tree=None,\n",
       "              predictor=None, random_state=None, ...)</pre><b>In a Jupyter environment, please rerun this cell to show the HTML representation or trust the notebook. <br />On GitHub, the HTML representation is unable to render, please try loading this page with nbviewer.org.</b></div><div class=\"sk-container\" hidden><div class=\"sk-item\"><div class=\"sk-estimator sk-toggleable\"><input class=\"sk-toggleable__control sk-hidden--visually\" id=\"sk-estimator-id-2\" type=\"checkbox\" checked><label for=\"sk-estimator-id-2\" class=\"sk-toggleable__label sk-toggleable__label-arrow\">XGBClassifier</label><div class=\"sk-toggleable__content\"><pre>XGBClassifier(base_score=None, booster=None, callbacks=None,\n",
       "              colsample_bylevel=None, colsample_bynode=None,\n",
       "              colsample_bytree=None, early_stopping_rounds=None,\n",
       "              enable_categorical=False, eval_metric=None, feature_types=None,\n",
       "              gamma=None, gpu_id=None, grow_policy=None, importance_type=None,\n",
       "              interaction_constraints=None, learning_rate=None, max_bin=None,\n",
       "              max_cat_threshold=None, max_cat_to_onehot=None,\n",
       "              max_delta_step=None, max_depth=None, max_leaves=None,\n",
       "              min_child_weight=None, missing=nan, monotone_constraints=None,\n",
       "              n_estimators=100, n_jobs=None, num_parallel_tree=None,\n",
       "              predictor=None, random_state=None, ...)</pre></div></div></div></div></div>"
      ],
      "text/plain": [
       "XGBClassifier(base_score=None, booster=None, callbacks=None,\n",
       "              colsample_bylevel=None, colsample_bynode=None,\n",
       "              colsample_bytree=None, early_stopping_rounds=None,\n",
       "              enable_categorical=False, eval_metric=None, feature_types=None,\n",
       "              gamma=None, gpu_id=None, grow_policy=None, importance_type=None,\n",
       "              interaction_constraints=None, learning_rate=None, max_bin=None,\n",
       "              max_cat_threshold=None, max_cat_to_onehot=None,\n",
       "              max_delta_step=None, max_depth=None, max_leaves=None,\n",
       "              min_child_weight=None, missing=nan, monotone_constraints=None,\n",
       "              n_estimators=100, n_jobs=None, num_parallel_tree=None,\n",
       "              predictor=None, random_state=None, ...)"
      ]
     },
     "execution_count": 78,
     "metadata": {},
     "output_type": "execute_result"
    }
   ],
   "source": [
    "loaded_model"
   ]
  }
 ],
 "metadata": {
  "colab": {
   "provenance": [],
   "toc_visible": true
  },
  "kernelspec": {
   "display_name": "Python 3 (ipykernel)",
   "language": "python",
   "name": "python3"
  },
  "language_info": {
   "codemirror_mode": {
    "name": "ipython",
    "version": 3
   },
   "file_extension": ".py",
   "mimetype": "text/x-python",
   "name": "python",
   "nbconvert_exporter": "python",
   "pygments_lexer": "ipython3",
   "version": "3.10.12"
  }
 },
 "nbformat": 4,
 "nbformat_minor": 1
}
